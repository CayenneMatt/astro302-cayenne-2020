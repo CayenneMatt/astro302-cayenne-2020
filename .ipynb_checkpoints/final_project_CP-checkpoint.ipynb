{
 "cells": [
  {
   "cell_type": "code",
   "execution_count": 3,
   "metadata": {},
   "outputs": [],
   "source": [
    "import pandas as pd\n",
    "from astroquery.simbad import Simbad\n",
    "from astroquery.sdss import SDSS\n",
    "from astropy import coordinates as coord\n",
    "from astropy import units as u\n",
    "import numpy as np\n",
    "\n",
    "import warnings\n",
    "warnings.filterwarnings(\"ignore\") # This is mostly just aesthetic\n",
    "\n",
    "pd.set_option('display.max_rows', None) # Makes pandas display the entire table rather than just the first and last few rows.\n",
    "Simbad.add_votable_fields('otype') # The object type is not returned by default from SIMBAD so this adds the column to the returned table"
   ]
  },
  {
   "cell_type": "code",
   "execution_count": 4,
   "metadata": {},
   "outputs": [],
   "source": [
    "# Reads in the data from the data files in the final project folder\n",
    "CV_yes = pd.DataFrame(pd.read_csv(\"CV_Cayenne-problYESCOPY.txt\", sep=\"\\s+\"))\n",
    "CV_no = pd.DataFrame(pd.read_csv(\"CV_Cayenne-problNOCOPY.txt\", sep=\"\\s+\"))\n",
    "\n",
    "# Creates the new columns in the tables.\n",
    "CV_yes['CV?'] = \"Y\" # Y means we think this is a CV\n",
    "CV_yes['new_CV?'] = \"\" # Empty column to fill in below\n",
    "CV_yes['otype'] = \"\"# Empty column to fill in later\n",
    "CV_no['CV?'] = \"N\" # N means we think this is NOT a CV"
   ]
  },
  {
   "cell_type": "markdown",
   "metadata": {},
   "source": [
    "The below cell will sort through all the objects in the list of suspected CV stars and will use their ra and dec to search SIMBAD and does one of two things:\n",
    "\n",
    "* If the object does not exist in SIMBAD, it is automatically labeled as a new discovery.\n",
    "* If the object is listed as 'candidate', it is also listed as new. All other objects are listed as not new. \n",
    "\n",
    "The object type is also taken from SIMBAD and entered into a new column in the table and then the cell underneath that is used to visualize all the types of objects there are thay may not fit into the other categories (nothing, known CV, or candidate CV)."
   ]
  },
  {
   "cell_type": "code",
   "execution_count": 5,
   "metadata": {},
   "outputs": [],
   "source": [
    "YvN = []\n",
    "otype = []\n",
    "\n",
    "for x in range(0, len(CV_yes['ra'])):\n",
    "    # This can be done with the CV_no table as well\n",
    "    coords = coord.SkyCoord(ra=CV_yes['ra'][x], dec=CV_yes['dec'][x], unit=(u.deg, u.deg))\n",
    "    \n",
    "    result = Simbad.query_region(coords, radius=2*u.arcsec)\n",
    "    \n",
    "    # Makes list to label CV as new when no entry in SIMBAD is found\n",
    "    YvN.append('Y' if result is None else 'N')\n",
    "    \n",
    "    # Makes a list to label a CV as 'Nothing' to the object type when no entry in SIMBAD is found\n",
    "    otype.append('Nothing' if result is None else result['OTYPE'][0])\n",
    " \n",
    "    \n",
    "for j in range(0, len(YvN)):\n",
    "    # Puts the previous two lists into the columns in the table\n",
    "    CV_yes['new_CV?'][j] = YvN[j]\n",
    "    CV_yes['otype'][j] = otype[j]\n",
    "\n",
    "# NOTE: If using the CV_no table, comment out the following code\n",
    "\n",
    "# Creates a list of indices corresponding to the objects labelled as candidate\n",
    "candidate = np.where(CV_yes['otype']==b'Candidate_CV*')\n",
    "\n",
    "for x in candidate:\n",
    "    # Based on the indicies list, changes 'N' to 'Y' when the object type is candidate\n",
    "    CV_yes['new_CV?'][x] = 'Y'"
   ]
  },
  {
   "cell_type": "markdown",
   "metadata": {},
   "source": [
    "The below cell will count the total number of each classification of object so you can see any extra objects that may not just be CV or candidate. As you can see, it returns quite a few objects that are not previously know CVs, but are also one of a kind in this list and so much be changed by hand."
   ]
  },
  {
   "cell_type": "code",
   "execution_count": 6,
   "metadata": {
    "scrolled": true
   },
   "outputs": [
    {
     "name": "stdout",
     "output_type": "stream",
     "text": [
      "Nothing               18\n",
      "b'CataclyV*'          15\n",
      "b'DwarfNova'          13\n",
      "b'Candidate_CV*'       7\n",
      "b'AMHer'               5\n",
      "b'Candidate_RRLyr'     2\n",
      "b'EB*Algol'            1\n",
      "b'EB*'                 1\n",
      "b'Blue'                1\n",
      "Name: otype, dtype: int64\n"
     ]
    }
   ],
   "source": [
    "print(CV_yes['otype'].value_counts())\n",
    "\n",
    "# CV_yes"
   ]
  },
  {
   "cell_type": "code",
   "execution_count": 7,
   "metadata": {},
   "outputs": [],
   "source": [
    "h = 1\n",
    "\"\"\"\n",
    "This is the part that does not work. As you can see, I have tried a number of different methods of pulling it up.\n",
    "The second line defining sp is the way the website for SDSS suggests how to do it. xid is defined and runs and the\n",
    "get_images one runs fine, but I get an error for all of the get_spectra lines.\n",
    "\"\"\"\n",
    "coords = coord.SkyCoord(ra=CV_yes['ra'][h], dec=CV_yes['dec'][h], unit=(u.deg, u.deg))\n",
    "\n",
    "xid = SDSS.query_region(coords, spectro=True, data_release=15)\n",
    "\n",
    "# sp = SDSS.get_spectra(plate=CV_yes['plate'][h], fiberID=CV_yes['fiber'][h], mjd=CV_yes['mjd'][h], data_release=15)\n",
    "# sp = SDSS.get_spectra(matches = xid)\n",
    "# sp = SDSS.get_spectra(plate=6284, fiberID=222, mjd=56310, radius=100)\n",
    "# im = SDSS.get_images(matches = xid, band='g')\n"
   ]
  },
  {
   "cell_type": "code",
   "execution_count": 8,
   "metadata": {},
   "outputs": [],
   "source": [
    "def spectra(h):\n",
    "    \"\"\"\n",
    "    Returns the spectrum of a star in the table corresponding to index h (first row is h = 0).\n",
    "    Currently does not work because I cannot run the \"get_spectra\" function for some reason.\n",
    "    \"\"\"\n",
    "    coords = coord.SkyCoord(ra=CV_yes['ra'][h], dec=CV_yes['dec'][h], unit=(u.deg, u.deg))\n",
    "    xid = SDSS.query_region(coords, spectro=True, data_release=15)\n",
    "    sp = SDSS.get_spectra(matches = xid)\n",
    "    \n",
    "    return sp\n"
   ]
  },
  {
   "cell_type": "code",
   "execution_count": null,
   "metadata": {},
   "outputs": [],
   "source": []
  }
 ],
 "metadata": {
  "kernelspec": {
   "display_name": "Python 3",
   "language": "python",
   "name": "python3"
  },
  "language_info": {
   "codemirror_mode": {
    "name": "ipython",
    "version": 3
   },
   "file_extension": ".py",
   "mimetype": "text/x-python",
   "name": "python",
   "nbconvert_exporter": "python",
   "pygments_lexer": "ipython3",
   "version": "3.7.4"
  }
 },
 "nbformat": 4,
 "nbformat_minor": 2
}
