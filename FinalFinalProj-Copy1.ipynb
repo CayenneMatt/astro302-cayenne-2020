{
 "cells": [
  {
   "cell_type": "code",
   "execution_count": 3,
   "metadata": {},
   "outputs": [],
   "source": [
    "import matplotlib.pyplot as plt\n",
    "import numpy as np\n",
    "from astroquery.sdss import SDSS\n",
    "import ipywidgets as widgets\n",
    "from IPython.display import clear_output\n",
    "import sys"
   ]
  },
  {
   "cell_type": "code",
   "execution_count": 15,
   "metadata": {},
   "outputs": [],
   "source": [
    "def search_the_sky(ra_low,ra_high,dec_low,dec_high,step_size=1):\n",
    "    query = \"\"\"\n",
    "SELECT\n",
    "  ra,dec,\n",
    "  dered_g as g, dered_r as r,\n",
    "  err_g, err_r,\n",
    "  flags\n",
    "  \n",
    "FROM\n",
    "  Star\n",
    "  \n",
    "WHERE\n",
    "  g - r BETWEEN -0.5 AND 2.5\n",
    "  AND g BETWEEN 14 and 24\n",
    "  AND ra BETWEEN {} and {}\n",
    "  AND dec Between {} and {}\n",
    "\"\"\"\n",
    "    interesting_coords = []\n",
    "    ra_saved = []\n",
    "    dec_saved = []\n",
    "    for i in np.arange(ra_low,ra_high,step_size):\n",
    "        for j in np.arange(dec_low,dec_high,step_size):\n",
    "            temp_data = SDSS.query_sql(query.format(i,i+step_size,j,j+step_size), timeout=1000)\n",
    "            if str(type(temp_data)) != \"<class 'NoneType'>\":\n",
    "                \n",
    "                fig,ax = plt.subplots(1,2,figsize=(20,10))\n",
    "                ax[0].hexbin(temp_data['g']-temp_data['r'], temp_data['g'],gridsize=150)\n",
    "                ax[0].set_ylim(24,14)\n",
    "                ax[0].set_xlabel('g-r color')\n",
    "                ax[0].set_ylabel('g magnitude')\n",
    "                ax[0].set_title('Color-Magnitude Hess Plot')\n",
    "                ax[1].scatter(temp_data['ra'],temp_data['dec'], marker='.', s=0.2, color='black')\n",
    "                ax[1].set_aspect('equal')\n",
    "                ax[1].set_xlabel('Right Ascension')\n",
    "                ax[1].set_ylabel('Declination')\n",
    "                plt.show()\n",
    "                try:\n",
    "                    interesting_coords.append(float(input(\n",
    "                        \"RA: \"+str(i)+\n",
    "                        \" Dec: \"+str(j)+\n",
    "                        \" Does this look like there's a globular cluster? 1 for yes, 2 for no, 3 to quit: \"\n",
    "                    )))\n",
    "                    if interesting_coords[-1] == 1:\n",
    "                        ra_saved.append(i)\n",
    "                        dec_saved.append(j)\n",
    "                    elif interesting_coords[-1] == 3:\n",
    "                        coords_of_interest = np.array([(ra_saved[i],dec_saved[i]) for i in range(0,len(ra_saved))])\n",
    "                        return coords_of_interest\n",
    "                except ValueError:\n",
    "                    coords_of_interest = np.array([(ra_saved[i],dec_saved[i]) for i in range(0,len(ra_saved))])\n",
    "                    return coords_of_interest\n",
    "                \n",
    "                else:\n",
    "                    pass\n",
    "            else:\n",
    "                pass\n",
    "            clear_output(wait=True)\n",
    "    coords_of_interest = np.array([(ra_saved[i],dec_saved[i]) for i in range(0,len(ra_saved))])\n",
    "    return coords_of_interest"
   ]
  },
  {
   "cell_type": "code",
   "execution_count": 17,
   "metadata": {},
   "outputs": [],
   "source": [
    "coords = search_the_sky(228,230,-90,90,2)"
   ]
  },
  {
   "cell_type": "code",
   "execution_count": 18,
   "metadata": {},
   "outputs": [
    {
     "data": {
      "text/plain": [
       "array([[228,  -2],\n",
       "       [228,   0],\n",
       "       [228,   2]])"
      ]
     },
     "execution_count": 18,
     "metadata": {},
     "output_type": "execute_result"
    }
   ],
   "source": [
    "coords"
   ]
  },
  {
   "cell_type": "code",
   "execution_count": 11,
   "metadata": {},
   "outputs": [],
   "source": [
    "search_the_sky?"
   ]
  },
  {
   "cell_type": "code",
   "execution_count": 16,
   "metadata": {},
   "outputs": [
    {
     "data": {
      "application/vnd.jupyter.widget-view+json": {
       "model_id": "ac5c2ff89a8e4c409d1d2b4021c31ce8",
       "version_major": 2,
       "version_minor": 0
      },
      "text/plain": [
       "Button(description='Click Me!', style=ButtonStyle())"
      ]
     },
     "metadata": {},
     "output_type": "display_data"
    },
    {
     "data": {
      "application/vnd.jupyter.widget-view+json": {
       "model_id": "5ce4e931abc64e3fbfff0da9fcb966c5",
       "version_major": 2,
       "version_minor": 0
      },
      "text/plain": [
       "Output()"
      ]
     },
     "metadata": {},
     "output_type": "display_data"
    },
    {
     "data": {
      "application/vnd.jupyter.widget-view+json": {
       "model_id": "3c4d7d2e718f4069a844cd55977a066e",
       "version_major": 2,
       "version_minor": 0
      },
      "text/plain": [
       "Button(description='Hmmm!', style=ButtonStyle())"
      ]
     },
     "metadata": {},
     "output_type": "display_data"
    },
    {
     "data": {
      "application/vnd.jupyter.widget-view+json": {
       "model_id": "5ce4e931abc64e3fbfff0da9fcb966c5",
       "version_major": 2,
       "version_minor": 0
      },
      "text/plain": [
       "Output()"
      ]
     },
     "metadata": {},
     "output_type": "display_data"
    }
   ],
   "source": [
    "\n",
    "from IPython.display import display\n",
    "button = widgets.Button(description=\"Click Me!\")\n",
    "button2 = widgets.Button(description=\"Hmmm!\")\n",
    "output = widgets.Output()\n",
    "\n",
    "display(button, output)\n",
    "display(button2, output)\n",
    "\n",
    "def on_button_clicked(b):\n",
    "    with output:\n",
    "        print(\"Button clicked.\")\n",
    "\n",
    "button.on_click(on_button_clicked)"
   ]
  },
  {
   "cell_type": "code",
   "execution_count": null,
   "metadata": {},
   "outputs": [],
   "source": []
  }
 ],
 "metadata": {
  "kernelspec": {
   "display_name": "Python 3",
   "language": "python",
   "name": "python3"
  },
  "language_info": {
   "codemirror_mode": {
    "name": "ipython",
    "version": 3
   },
   "file_extension": ".py",
   "mimetype": "text/x-python",
   "name": "python",
   "nbconvert_exporter": "python",
   "pygments_lexer": "ipython3",
   "version": "3.7.4"
  }
 },
 "nbformat": 4,
 "nbformat_minor": 2
}
